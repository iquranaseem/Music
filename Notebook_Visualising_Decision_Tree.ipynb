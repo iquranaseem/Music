{
 "cells": [
  {
   "cell_type": "code",
   "execution_count": 6,
   "id": "f95dba43",
   "metadata": {},
   "outputs": [],
   "source": [
    "import pandas as pd \n",
    "from sklearn.tree import DecisionTreeClassifier\n",
    "from sklearn import tree"
   ]
  },
  {
   "cell_type": "code",
   "execution_count": 3,
   "id": "321438a9",
   "metadata": {},
   "outputs": [],
   "source": [
    "df_music = pd.read_csv(\"music.csv\")\n",
    "I = df_music.drop(columns=[\"genre\"])\n",
    "G = df_music[\"genre\"]"
   ]
  },
  {
   "cell_type": "code",
   "execution_count": 19,
   "id": "6562b8f9",
   "metadata": {},
   "outputs": [],
   "source": [
    "model = DecisionTreeClassifier()\n",
    "model.fit(I, G)\n",
    "# Export the decision tree to a DOT file\n",
    "tree.export_graphviz(\n",
    "    model, \n",
    "    out_file=\"music_recommender.dot\", \n",
    "    feature_names=[\"age\", \"gender\"], \n",
    "    class_names=sorted(G.unique()), \n",
    "    label=\"all\", \n",
    "    rounded=True, \n",
    "    filled=True\n",
    ")\n"
   ]
  },
  {
   "cell_type": "code",
   "execution_count": null,
   "id": "3a06d5b8",
   "metadata": {},
   "outputs": [],
   "source": []
  }
 ],
 "metadata": {
  "kernelspec": {
   "display_name": "Python 3 (ipykernel)",
   "language": "python",
   "name": "python3"
  },
  "language_info": {
   "codemirror_mode": {
    "name": "ipython",
    "version": 3
   },
   "file_extension": ".py",
   "mimetype": "text/x-python",
   "name": "python",
   "nbconvert_exporter": "python",
   "pygments_lexer": "ipython3",
   "version": "3.11.4"
  }
 },
 "nbformat": 4,
 "nbformat_minor": 5
}
