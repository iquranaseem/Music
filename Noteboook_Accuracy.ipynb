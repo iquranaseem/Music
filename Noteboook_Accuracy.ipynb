{
 "cells": [
  {
   "cell_type": "code",
   "execution_count": 27,
   "id": "fd741918",
   "metadata": {},
   "outputs": [],
   "source": [
    "import pandas as pd \n",
    "from sklearn.tree import DecisionTreeClassifier\n",
    "from sklearn.model_selection import train_test_split\n",
    "from sklearn.metrics import accuracy_score"
   ]
  },
  {
   "cell_type": "code",
   "execution_count": 35,
   "id": "4e18415c",
   "metadata": {},
   "outputs": [
    {
     "data": {
      "text/plain": [
       "0.5"
      ]
     },
     "execution_count": 35,
     "metadata": {},
     "output_type": "execute_result"
    }
   ],
   "source": [
    "df_music = pd.read_csv(\"/Users/iquranaseem/Desktop/Project/music.csv\")\n",
    "I = df_music.drop(columns=[\"genre\"])\n",
    "G = df_music[\"genre\"]\n",
    "I_train, I_test, G_train, G_test = train_test_split(I, G, test_size = 0.2)\n",
    "\n",
    "model = DecisionTreeClassifier()\n",
    "model.fit(I_train, G_train)\n",
    "predictions = model.predict(I_test)\n",
    "\n",
    "score = accuracy_score(G_test, predictions)\n",
    "score\n"
   ]
  },
  {
   "cell_type": "markdown",
   "id": "712a4392",
   "metadata": {},
   "source": [
    "##### As data is randomly picked for testing, the accuracy will change"
   ]
  },
  {
   "cell_type": "raw",
   "id": "a2445d58",
   "metadata": {},
   "source": [
    "### If we use samaller amount of data for training, our acccuracy will be lower."
   ]
  },
  {
   "cell_type": "code",
   "execution_count": 38,
   "id": "e938e0ce",
   "metadata": {},
   "outputs": [
    {
     "data": {
      "text/plain": [
       "0.3333333333333333"
      ]
     },
     "execution_count": 38,
     "metadata": {},
     "output_type": "execute_result"
    }
   ],
   "source": [
    "I_train, I_test, G_train, G_test = train_test_split(I, G, test_size = 0.8)\n",
    "\n",
    "model = DecisionTreeClassifier()\n",
    "model.fit(I_train, G_train)\n",
    "predictions = model.predict(I_test)\n",
    "\n",
    "score = accuracy_score(G_test, predictions)\n",
    "score\n"
   ]
  }
 ],
 "metadata": {
  "kernelspec": {
   "display_name": "Python 3 (ipykernel)",
   "language": "python",
   "name": "python3"
  },
  "language_info": {
   "codemirror_mode": {
    "name": "ipython",
    "version": 3
   },
   "file_extension": ".py",
   "mimetype": "text/x-python",
   "name": "python",
   "nbconvert_exporter": "python",
   "pygments_lexer": "ipython3",
   "version": "3.11.4"
  }
 },
 "nbformat": 4,
 "nbformat_minor": 5
}
