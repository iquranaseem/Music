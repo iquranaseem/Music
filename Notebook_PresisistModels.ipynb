{
 "cells": [
  {
   "cell_type": "code",
   "execution_count": 28,
   "id": "225a72f2",
   "metadata": {},
   "outputs": [],
   "source": [
    "import pandas as pd \n",
    "from sklearn.tree import DecisionTreeClassifier\n",
    "import joblib"
   ]
  },
  {
   "cell_type": "markdown",
   "id": "47d8b46c",
   "metadata": {},
   "source": [
    "##### We dont want to always use code, so we train the model, so we use joblib to store the trained model"
   ]
  },
  {
   "cell_type": "code",
   "execution_count": 29,
   "id": "4ef22faf",
   "metadata": {},
   "outputs": [],
   "source": [
    "df_music = pd.read_csv(\"music.csv\")\n",
    "I = df_music.drop(columns=[\"genre\"])\n",
    "G = df_music[\"genre\"]"
   ]
  },
  {
   "cell_type": "code",
   "execution_count": 38,
   "id": "05574306",
   "metadata": {},
   "outputs": [
    {
     "data": {
      "text/plain": [
       "['music-recommender.joblib']"
      ]
     },
     "execution_count": 38,
     "metadata": {},
     "output_type": "execute_result"
    }
   ],
   "source": [
    "model = DecisionTreeClassifier()\n",
    "model.fit(I, G)\n",
    "\n",
    "joblib.dump(model, \"music-recommender.joblib\")\n",
    "\n",
    "#predictions = model.predict([ [32, 1] ])\n",
    "#predictions"
   ]
  },
  {
   "cell_type": "code",
   "execution_count": 39,
   "id": "5de96d49",
   "metadata": {},
   "outputs": [
    {
     "name": "stderr",
     "output_type": "stream",
     "text": [
      "/Users/iquranaseem/anaconda3/lib/python3.11/site-packages/sklearn/base.py:464: UserWarning: X does not have valid feature names, but DecisionTreeClassifier was fitted with feature names\n",
      "  warnings.warn(\n"
     ]
    },
    {
     "data": {
      "text/plain": [
       "array(['HipHop'], dtype=object)"
      ]
     },
     "execution_count": 39,
     "metadata": {},
     "output_type": "execute_result"
    }
   ],
   "source": [
    "joblib.load(\"music-recommender.joblib\")\n",
    "predictions = model.predict([[21, 1]])\n",
    "predictions"
   ]
  },
  {
   "cell_type": "code",
   "execution_count": null,
   "id": "8ec2689a",
   "metadata": {},
   "outputs": [],
   "source": []
  }
 ],
 "metadata": {
  "kernelspec": {
   "display_name": "Python 3 (ipykernel)",
   "language": "python",
   "name": "python3"
  },
  "language_info": {
   "codemirror_mode": {
    "name": "ipython",
    "version": 3
   },
   "file_extension": ".py",
   "mimetype": "text/x-python",
   "name": "python",
   "nbconvert_exporter": "python",
   "pygments_lexer": "ipython3",
   "version": "3.11.4"
  }
 },
 "nbformat": 4,
 "nbformat_minor": 5
}
